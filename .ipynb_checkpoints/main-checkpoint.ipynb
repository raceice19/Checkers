{
 "cells": [
  {
   "cell_type": "code",
   "execution_count": null,
   "id": "44a0ce30-4242-45d1-8363-1e1a6c252e1d",
   "metadata": {},
   "outputs": [],
   "source": [
    "import numpy as np"
   ]
  },
  {
   "cell_type": "code",
   "execution_count": 4,
   "id": "24b607ac-163c-48ca-ae71-fd0ffdd4f1cc",
   "metadata": {},
   "outputs": [
    {
     "name": "stdout",
     "output_type": "stream",
     "text": [
      "hello\n"
     ]
    }
   ],
   "source": [
    "#8x8\n",
    "\n",
    "def print_board():\n",
    "    print(\"hello\")\n",
    "    \n",
    "print_board()"
   ]
  },
  {
   "cell_type": "code",
   "execution_count": 5,
   "id": "b88a0896-2d6d-4c5b-9159-87dd582f5bdf",
   "metadata": {},
   "outputs": [
    {
     "name": "stdout",
     "output_type": "stream",
     "text": [
      "hello\n"
     ]
    }
   ],
   "source": [
    "print_board()"
   ]
  },
  {
   "cell_type": "code",
   "execution_count": null,
   "id": "35919838-7dce-4912-a0a6-27cb1bdc9338",
   "metadata": {},
   "outputs": [],
   "source": []
  }
 ],
 "metadata": {
  "kernelspec": {
   "display_name": "Python 3 (ipykernel)",
   "language": "python",
   "name": "python3"
  },
  "language_info": {
   "codemirror_mode": {
    "name": "ipython",
    "version": 3
   },
   "file_extension": ".py",
   "mimetype": "text/x-python",
   "name": "python",
   "nbconvert_exporter": "python",
   "pygments_lexer": "ipython3",
   "version": "3.10.9"
  }
 },
 "nbformat": 4,
 "nbformat_minor": 5
}
