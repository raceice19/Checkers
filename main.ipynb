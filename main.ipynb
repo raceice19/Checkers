{
 "cells": [
  {
   "cell_type": "code",
   "execution_count": null,
   "id": "44a0ce30-4242-45d1-8363-1e1a6c252e1d",
   "metadata": {},
   "outputs": [],
   "source": [
    "import numpy as np"
   ]
  },
  {
   "cell_type": "code",
   "execution_count": null,
   "id": "78ec72a2-9483-4c87-a7f0-d0676d1b86cd",
   "metadata": {},
   "outputs": [],
   "source": [
    "board = np.array([])"
   ]
  },
  {
   "cell_type": "code",
   "execution_count": 6,
   "id": "24b607ac-163c-48ca-ae71-fd0ffdd4f1cc",
   "metadata": {},
   "outputs": [],
   "source": [
    "#8x8\n",
    "\n",
    "def print_board():\n",
    "    print(\"hello\")"
   ]
  },
  {
   "cell_type": "code",
   "execution_count": 7,
   "id": "35919838-7dce-4912-a0a6-27cb1bdc9338",
   "metadata": {},
   "outputs": [],
   "source": [
    "def main():\n",
    "    print_board()"
   ]
  }
 ],
 "metadata": {
  "kernelspec": {
   "display_name": "Python 3 (ipykernel)",
   "language": "python",
   "name": "python3"
  },
  "language_info": {
   "codemirror_mode": {
    "name": "ipython",
    "version": 3
   },
   "file_extension": ".py",
   "mimetype": "text/x-python",
   "name": "python",
   "nbconvert_exporter": "python",
   "pygments_lexer": "ipython3",
   "version": "3.10.9"
  }
 },
 "nbformat": 4,
 "nbformat_minor": 5
}
