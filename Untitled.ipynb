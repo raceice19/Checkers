{
 "cells": [
  {
   "cell_type": "code",
   "execution_count": 9,
   "id": "9ed940e3-40ee-4287-a20c-d0bb96b426ef",
   "metadata": {},
   "outputs": [],
   "source": [
    "def fun():\n",
    "    return 4\n",
    "\n",
    "class Run:\n",
    "    def mathisfun():\n",
    "        print(Test.addition(2,1))"
   ]
  },
  {
   "cell_type": "code",
   "execution_count": 10,
   "id": "c06816e6-2fd0-418d-8aa6-5c57ab2eff70",
   "metadata": {},
   "outputs": [
    {
     "name": "stdout",
     "output_type": "stream",
     "text": [
      "10\n"
     ]
    }
   ],
   "source": [
    "class Test:\n",
    "    z = 3\n",
    "    def addition(x, y):\n",
    "        return x+y+Test.z + fun()\n",
    "\n",
    "def main():\n",
    "    Run.mathisfun()\n",
    "    \n",
    "if __name__ == \"__main__\":\n",
    "    main()"
   ]
  },
  {
   "cell_type": "code",
   "execution_count": 17,
   "id": "4e98ee28-20e6-4e1a-9eec-3f3a0114f877",
   "metadata": {},
   "outputs": [
    {
     "name": "stdout",
     "output_type": "stream",
     "text": [
      "8\n"
     ]
    }
   ],
   "source": [
    "def asdf(x, z, y=2):\n",
    "    print(x+y+z)\n",
    "    \n",
    "asdf(1, y=3, z=4)"
   ]
  },
  {
   "cell_type": "code",
   "execution_count": 20,
   "id": "8c155607-ccc8-420d-acc9-0987541086a5",
   "metadata": {},
   "outputs": [
    {
     "name": "stdout",
     "output_type": "stream",
     "text": [
      "1\n"
     ]
    }
   ],
   "source": [
    "x = 0\n",
    "x=x+1\n",
    "print( x )"
   ]
  },
  {
   "cell_type": "code",
   "execution_count": null,
   "id": "fea771c8-3048-424b-83d6-c415b8cc1dab",
   "metadata": {},
   "outputs": [],
   "source": []
  }
 ],
 "metadata": {
  "kernelspec": {
   "display_name": "Python 3 (ipykernel)",
   "language": "python",
   "name": "python3"
  },
  "language_info": {
   "codemirror_mode": {
    "name": "ipython",
    "version": 3
   },
   "file_extension": ".py",
   "mimetype": "text/x-python",
   "name": "python",
   "nbconvert_exporter": "python",
   "pygments_lexer": "ipython3",
   "version": "3.7.13"
  }
 },
 "nbformat": 4,
 "nbformat_minor": 5
}
